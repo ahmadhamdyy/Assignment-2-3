{
 "cells": [
  {
   "cell_type": "markdown",
   "metadata": {},
   "source": [
    "# Assignment 3"
   ]
  },
  {
   "cell_type": "markdown",
   "metadata": {},
   "source": [
    "### Write a function to count the number 4 in a given list."
   ]
  },
  {
   "cell_type": "code",
   "execution_count": 3,
   "metadata": {},
   "outputs": [
    {
     "name": "stdout",
     "output_type": "stream",
     "text": [
      "4\n"
     ]
    }
   ],
   "source": [
    "def findNum4(d):\n",
    "    count = 0   \n",
    "    for i in d:\n",
    "        if i == 4:\n",
    "            count = count +1\n",
    "    print(count)\n",
    "d = [4,5,6,7,7,4,5,4,44,4,5,6]\n",
    "findNum4(d)"
   ]
  },
  {
   "cell_type": "markdown",
   "metadata": {},
   "source": [
    "### write a  function to check whether a number is divisible by another number."
   ]
  },
  {
   "cell_type": "code",
   "execution_count": 13,
   "metadata": {},
   "outputs": [
    {
     "name": "stdout",
     "output_type": "stream",
     "text": [
      "Enter number:7\n",
      "Enter divisor:5\n",
      "7 is not divisible by 5\n"
     ]
    }
   ],
   "source": [
    "def checkDivision(x,y):\n",
    "    if x%y == 0:\n",
    "        print(str(x)+\" is divisible by \"+str(y))\n",
    "    else:\n",
    "        print(str(x)+\" is not divisible by \"+str(y))\n",
    "        \n",
    "x = int(input(\"Enter number:\"))\n",
    "y = int(input(\"Enter divisor:\"))\n",
    "\n",
    "checkDivision(x,y)\n"
   ]
  },
  {
   "cell_type": "markdown",
   "metadata": {},
   "source": [
    "### write a function to find the maximum and minimum numbers from a sequence of numbers."
   ]
  },
  {
   "cell_type": "code",
   "execution_count": 20,
   "metadata": {},
   "outputs": [
    {
     "name": "stdout",
     "output_type": "stream",
     "text": [
      "Enter number of elements : 3\n",
      "Enter elements:\n",
      "6\n",
      "7\n",
      "8\n",
      "minimum is 6\n",
      "maximum is 8\n"
     ]
    }
   ],
   "source": [
    "def max_min(d):\n",
    "    min = d[0]\n",
    "    max = d[0]\n",
    "    for i in d:\n",
    "        if i < min :\n",
    "            min = i\n",
    "    for i in d:\n",
    "        if i > max :\n",
    "            max = i\n",
    "    print(\"minimum is \"+ str(min) + \"\\nmaximum is \"+ str(max))\n",
    "d = []    \n",
    "n = int(input(\"Enter number of elements : \"))    \n",
    "print(\"Enter elements:\")\n",
    "for i in range(0, n):\n",
    "    x = int(input())\n",
    "    d.append(x)\n",
    "max_min(d)"
   ]
  },
  {
   "cell_type": "markdown",
   "metadata": {},
   "source": [
    "### Write a Python function that takes two lists and returns True if they have at least one common member."
   ]
  },
  {
   "cell_type": "code",
   "execution_count": 22,
   "metadata": {},
   "outputs": [],
   "source": [
    "def checker(d,x):\n",
    "    for i in d:\n",
    "        for j in x:\n",
    "            if i == j:\n",
    "            return print(\"True\")\n",
    "x=[1,2,3,4,5]\n",
    "d=[0,7,8,9,10]\n",
    "checker(d,x)\n",
    "        "
   ]
  },
  {
   "cell_type": "markdown",
   "metadata": {},
   "source": [
    "### Write a Python function to calculate the factorial of a number (a non-negative integer). The function accepts the number from the user"
   ]
  },
  {
   "cell_type": "code",
   "execution_count": 27,
   "metadata": {},
   "outputs": [
    {
     "name": "stdout",
     "output_type": "stream",
     "text": [
      "24\n"
     ]
    }
   ],
   "source": [
    "def factorial(x):\n",
    "    if x != 0:\n",
    "        return x * factorial(x-1)\n",
    "    return 1\n",
    "x = 4\n",
    "print(factorial(x))    "
   ]
  },
  {
   "cell_type": "markdown",
   "metadata": {},
   "source": [
    "### Write a Python function to check whether a number is in a given range.\n",
    "\n",
    "### The range is from 3 to 11\n"
   ]
  },
  {
   "cell_type": "code",
   "execution_count": 29,
   "metadata": {},
   "outputs": [
    {
     "name": "stdout",
     "output_type": "stream",
     "text": [
      "Enter number:7\n",
      "Enter start of the range:5\n",
      "Enter end of the range:8\n",
      "7 is within the range 5 to 8\n"
     ]
    }
   ],
   "source": [
    "def check_range(x,y,z):\n",
    "    for i in range(y,z+1,1):\n",
    "        if i == x:\n",
    "            print(str(x) +\" is within the range \"+str(y)+\" to \"+str(z))\n",
    "            break\n",
    "x = int(input(\"Enter number:\"))\n",
    "y = int(input(\"Enter start of the range:\"))\n",
    "z = int(input(\"Enter end of the range:\"))\n",
    "check_range(x,y,z)\n",
    "    "
   ]
  },
  {
   "cell_type": "markdown",
   "metadata": {},
   "source": [
    "### Write a  program to create the multiplication table (from 1 to 10) of a number."
   ]
  },
  {
   "cell_type": "code",
   "execution_count": 30,
   "metadata": {},
   "outputs": [
    {
     "name": "stdout",
     "output_type": "stream",
     "text": [
      "5 X 0 = 0\n",
      "5 X 1 = 5\n",
      "5 X 2 = 10\n",
      "5 X 3 = 15\n",
      "5 X 4 = 20\n",
      "5 X 5 = 25\n",
      "5 X 6 = 30\n",
      "5 X 7 = 35\n",
      "5 X 8 = 40\n",
      "5 X 9 = 45\n",
      "5 X 10 = 50\n"
     ]
    }
   ],
   "source": [
    "def calc(num):\n",
    "    for i in range(0,11,1):\n",
    "        print(num,\"X\",i,\"=\",num*i)\n",
    "calc(5)"
   ]
  },
  {
   "cell_type": "markdown",
   "metadata": {},
   "source": [
    "#### LESSER OF TWO EVENS: Write a function that returns the lesser of two given numbers *if* both numbers are even, but returns the greater if one or both numbers are odd\n",
    "    lesser_of_two_evens(2,4) --> 2\n",
    "    lesser_of_two_evens(2,5) --> 5"
   ]
  },
  {
   "cell_type": "code",
   "execution_count": 33,
   "metadata": {},
   "outputs": [
    {
     "name": "stdout",
     "output_type": "stream",
     "text": [
      "2\n"
     ]
    }
   ],
   "source": [
    "def lesser_of_two_evens(x,y):\n",
    "    if x%2==0 and y%2==0:\n",
    "        if x > y:\n",
    "            return y\n",
    "        else:\n",
    "            return x\n",
    "    else:\n",
    "        if x > y:\n",
    "            return x\n",
    "        else:\n",
    "            return y\n",
    "x = lesser_of_two_evens(4,2)\n",
    "print(x)\n",
    "        "
   ]
  },
  {
   "cell_type": "markdown",
   "metadata": {},
   "source": [
    "#### ANIMAL CRACKERS: Write a function takes a two-word string and returns True if both words begin with same letter\n",
    "    animal_crackers('Levelheaded Llama') --> True\n",
    "    animal_crackers('Crazy Kangaroo') --> False"
   ]
  },
  {
   "cell_type": "code",
   "execution_count": 38,
   "metadata": {},
   "outputs": [
    {
     "name": "stdout",
     "output_type": "stream",
     "text": [
      "Enter two words:ahmad Ahsan\n",
      "True\n"
     ]
    }
   ],
   "source": [
    "def animal_crackers(s):\n",
    "    s = s.split()\n",
    "    x = s[0]\n",
    "    y = s[1]\n",
    "    if x[0].lower() == y[0].lower():\n",
    "        return print(\"True\")\n",
    "    else:\n",
    "        return print(\"false\")\n",
    "s = input(\"Enter two words:\")\n",
    "animal_crackers(s)"
   ]
  },
  {
   "cell_type": "markdown",
   "metadata": {},
   "source": [
    "#### MAKES TWENTY: Given two integers, return True if the sum of the integers is 20 *or* if one of the integers is 20. If not, return False\n",
    "\n",
    "    makes_twenty(20,10) --> True\n",
    "    makes_twenty(12,8) --> True\n",
    "    makes_twenty(2,3) --> False"
   ]
  },
  {
   "cell_type": "code",
   "execution_count": 42,
   "metadata": {},
   "outputs": [
    {
     "name": "stdout",
     "output_type": "stream",
     "text": [
      "True\n"
     ]
    }
   ],
   "source": [
    "def makes_twenty(x,y):\n",
    "    if x == 20 or y == 20:\n",
    "        return print(\"True\")\n",
    "    if x+y == 20:\n",
    "        return print(\"True\")\n",
    "    return print(\"False\")\n",
    "makes_twenty(10,10)\n",
    "\n",
    "        "
   ]
  },
  {
   "cell_type": "markdown",
   "metadata": {},
   "source": [
    "#### ALMOST THERE: Given an integer n, return True if n is within 10 of either 100 or 200\n",
    "\n",
    "    almost_there(90) --> True\n",
    "    almost_there(104) --> True\n",
    "    almost_there(150) --> False\n",
    "    almost_there(209) --> True\n",
    "    \n",
    "NOTE: `abs(num)` returns the absolute value of a number"
   ]
  },
  {
   "cell_type": "code",
   "execution_count": 44,
   "metadata": {},
   "outputs": [
    {
     "name": "stdout",
     "output_type": "stream",
     "text": [
      "False\n"
     ]
    }
   ],
   "source": [
    "def almost_there(x):\n",
    "    if abs(100-x)<=10 or abs(200-x)<=10:\n",
    "        return True\n",
    "    else:\n",
    "        return False\n",
    "print(almost_there(10))"
   ]
  },
  {
   "cell_type": "markdown",
   "metadata": {},
   "source": [
    "#### BLACKJACK: Given three integers between 1 and 11, if their sum is less than or equal to 21, return their sum. If their sum exceeds 21 *and* there's an eleven, reduce the total sum by 10. Finally, if the sum  exceeds 21, return 'BUST'\n",
    "    blackjack(5,6,7) --> 18\n",
    "    blackjack(9,9,9) --> 'BUST'\n",
    "    blackjack(9,9,11) --> 19"
   ]
  },
  {
   "cell_type": "code",
   "execution_count": 47,
   "metadata": {},
   "outputs": [
    {
     "name": "stdout",
     "output_type": "stream",
     "text": [
      "BUST\n"
     ]
    }
   ],
   "source": [
    "def blackjack(x,y,z):\n",
    "    sum = 0\n",
    "    sum = x + y + z\n",
    "    if sum <= 21:\n",
    "        return print(sum)\n",
    "    else:\n",
    "        if x == 11 or y == 11 or z == 11:\n",
    "            sum = sum - 10\n",
    "            return print(sum)\n",
    "        else:\n",
    "            return print(\"BUST\")\n",
    "                                    \n",
    "blackjack(9,9,9)    "
   ]
  },
  {
   "cell_type": "code",
   "execution_count": null,
   "metadata": {},
   "outputs": [],
   "source": []
  }
 ],
 "metadata": {
  "kernelspec": {
   "display_name": "Python 3 (ipykernel)",
   "language": "python",
   "name": "python3"
  },
  "language_info": {
   "codemirror_mode": {
    "name": "ipython",
    "version": 3
   },
   "file_extension": ".py",
   "mimetype": "text/x-python",
   "name": "python",
   "nbconvert_exporter": "python",
   "pygments_lexer": "ipython3",
   "version": "3.9.12"
  }
 },
 "nbformat": 4,
 "nbformat_minor": 2
}
